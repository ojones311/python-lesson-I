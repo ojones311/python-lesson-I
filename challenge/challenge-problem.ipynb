{
 "cells": [
  {
   "cell_type": "markdown",
   "metadata": {},
   "source": [
    "Challenge Problem: Valid Palindrome (https://leetcode.com/problems/valid-palindrome/)\n",
    "\n",
    "A phrase is a palindrome if, after converting all uppercase letters into lowercase letters and removing all non-alphanumeric characters, it reads the same forward and backward. Alphanumeric characters include letters and numbers.\n",
    "\n",
    "Given a string s, return true if it is a palindrome, or false otherwise."
   ]
  },
  {
   "cell_type": "code",
   "execution_count": 57,
   "metadata": {},
   "outputs": [],
   "source": [
    "#remove all non alphanumeric chars, then loop through string and count chars, \n",
    "# if any chars have a value of gretaer than one return false else return true \n",
    "def isPalindrome(s: str) -> bool:\n",
    "    for char in s:\n",
    "        if char.isalnum() == False:\n",
    "            s= s.replace(char, '')\n",
    "    s = s.lower()    \n",
    "    return s[::-1] == s\n"
   ]
  },
  {
   "cell_type": "code",
   "execution_count": 58,
   "metadata": {},
   "outputs": [],
   "source": [
    "# test cases -- feel free to add your own\n",
    "\n",
    "assert isPalindrome(\"A man, a plan, a canal: Panama\") == True\n",
    "assert isPalindrome(\"race a car\") == False\n",
    "assert isPalindrome(\" \") == True # s is an empty string \"\" after removing non-alphanumeric characters. Since an empty string reads the same forward and backward, it is a palindrome.\n",
    "\n",
    "# print(isPalindrome(\"A man, a plan, a canal: Panama\"))\n",
    "# print(isPalindrome('race a car'))"
   ]
  }
 ],
 "metadata": {
  "interpreter": {
   "hash": "aee8b7b246df8f9039afb4144a1f6fd8d2ca17a180786b69acc140d282b71a49"
  },
  "kernelspec": {
   "display_name": "Python 3.10.1 64-bit",
   "language": "python",
   "name": "python3"
  },
  "language_info": {
   "codemirror_mode": {
    "name": "ipython",
    "version": 3
   },
   "file_extension": ".py",
   "mimetype": "text/x-python",
   "name": "python",
   "nbconvert_exporter": "python",
   "pygments_lexer": "ipython3",
   "version": "3.10.1"
  },
  "orig_nbformat": 4
 },
 "nbformat": 4,
 "nbformat_minor": 2
}
